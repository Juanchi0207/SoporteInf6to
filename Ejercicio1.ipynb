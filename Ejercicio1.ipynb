{
  "nbformat": 4,
  "nbformat_minor": 0,
  "metadata": {
    "colab": {
      "provenance": [],
      "authorship_tag": "ABX9TyPH2vmDrlBuYZa8TTTA5Gwg",
      "include_colab_link": true
    },
    "kernelspec": {
      "name": "python3",
      "display_name": "Python 3"
    },
    "language_info": {
      "name": "python"
    }
  },
  "cells": [
    {
      "cell_type": "markdown",
      "metadata": {
        "id": "view-in-github",
        "colab_type": "text"
      },
      "source": [
        "<a href=\"https://colab.research.google.com/github/Juanchi0207/SoporteInf6to/blob/main/Ejercicio1.ipynb\" target=\"_parent\"><img src=\"https://colab.research.google.com/assets/colab-badge.svg\" alt=\"Open In Colab\"/></a>"
      ]
    },
    {
      "cell_type": "code",
      "execution_count": 18,
      "metadata": {
        "id": "tV-TlukizARH",
        "colab": {
          "base_uri": "https://localhost:8080/"
        },
        "outputId": "55dfe47e-0e96-4caa-8024-0e2af8fcd503"
      },
      "outputs": [
        {
          "output_type": "stream",
          "name": "stdout",
          "text": [
            "adfart\n",
            "dadaad\n",
            "aadadfag\n"
          ]
        }
      ],
      "source": [
        "lista = [\"adfa rt\", \"dadaad\", \"aadad fag\"]\n",
        "listaAlt = []\n",
        "for elemento in lista: # recorriendo solo los valores\n",
        "  item=\"\"\n",
        "  for indice in range(len(elemento)):\n",
        "      if elemento[indice] != \" \":\n",
        "          item = item+elemento[indice]\n",
        "  listaAlt.append(item)\n",
        "\n",
        "for elemento in listaAlt:\n",
        "  print(elemento)\n"
      ]
    },
    {
      "cell_type": "markdown",
      "source": [],
      "metadata": {
        "id": "2nFWtqR_0Tbb"
      }
    }
  ]
}